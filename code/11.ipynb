{
 "cells": [
  {
   "cell_type": "code",
   "execution_count": null,
   "id": "96055e3e-4a69-4d58-9847-ccccd5408d5d",
   "metadata": {},
   "outputs": [],
   "source": [
    "Amoeba\n",
    "Paramecium\n",
    "Euglena\n",
    "Dinoflagellates\n",
    "Gonium\n",
    "Pandorina\n",
    "Eudorina\n",
    "Volvox\n",
    "Sponges\n",
    "Hydra\n",
    "Flatworms\n",
    "Earthworms\n",
    "Mollusks\n",
    "Fish\n",
    "Amphibians\n",
    "Mammals Primates Humans"
   ]
  }
 ],
 "metadata": {
  "kernelspec": {
   "display_name": "Python 3 (ipykernel)",
   "language": "python",
   "name": "python3"
  },
  "language_info": {
   "codemirror_mode": {
    "name": "ipython",
    "version": 3
   },
   "file_extension": ".py",
   "mimetype": "text/x-python",
   "name": "python",
   "nbconvert_exporter": "python",
   "pygments_lexer": "ipython3",
   "version": "3.12.5"
  }
 },
 "nbformat": 4,
 "nbformat_minor": 5
}
